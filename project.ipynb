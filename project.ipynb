{
 "cells": [
  {
   "cell_type": "code",
   "execution_count": 1,
   "metadata": {
    "pycharm": {
     "name": "#%%\n"
    }
   },
   "outputs": [],
   "source": [
    "import numpy as np\n",
    "import pylab as pl\n",
    "import pandas as pd\n",
    "import matplotlib.pyplot as plt\n",
    "%matplotlib inline\n",
    "import seaborn as sns\n",
    "from sklearn.utils import shuffle\n",
    "from sklearn.svm import SVC\n",
    "from sklearn.metrics import confusion_matrix,classification_report\n",
    "from sklearn.model_selection import cross_val_score, GridSearchCV"
   ]
  },
  {
   "cell_type": "code",
   "execution_count": 2,
   "metadata": {},
   "outputs": [],
   "source": [
    "train = pd.read_csv(\"cell2celltrain.csv\")\n",
    "test = pd.read_csv(\"cell2cellholdout.csv\")\n",
    "\n",
    "Churn = {'Yes': 1,'No': 0} \n",
    "\n",
    "train.Churn = [Churn[item] for item in train.Churn] "
   ]
  },
  {
   "cell_type": "code",
   "execution_count": 3,
   "metadata": {},
   "outputs": [],
   "source": [
    "corr_matrix = train.corr()\n",
    "\n",
    "selected_col = 'Churn'\n",
    "\n",
    "threshold = 0.05\n",
    "\n",
    "corr_matrix = train.corr()\n",
    "\n",
    "to_drop = set()\n",
    "\n",
    "for col in corr_matrix.columns:\n",
    "    if col != selected_col and abs(corr_matrix.loc[selected_col, col]) < threshold:\n",
    "        to_drop.add(col)\n",
    "\n",
    "train = train.drop(to_drop, axis=1)\n",
    "test = test.drop(to_drop, axis=1)"
   ]
  },
  {
   "cell_type": "code",
   "execution_count": 4,
   "metadata": {},
   "outputs": [
    {
     "name": "stdout",
     "output_type": "stream",
     "text": [
      "<class 'pandas.core.frame.DataFrame'>\n",
      "RangeIndex: 51047 entries, 0 to 51046\n",
      "Data columns (total 26 columns):\n",
      " #   Column                   Non-Null Count  Dtype  \n",
      "---  ------                   --------------  -----  \n",
      " 0   MonthlyMinutes           50891 non-null  float64\n",
      " 1   TotalRecurringCharge     50891 non-null  float64\n",
      " 2   ServiceArea              51023 non-null  object \n",
      " 3   CurrentEquipmentDays     51046 non-null  float64\n",
      " 4   ChildrenInHH             51047 non-null  object \n",
      " 5   HandsetRefurbished       51047 non-null  object \n",
      " 6   HandsetWebCapable        51047 non-null  object \n",
      " 7   TruckOwner               51047 non-null  object \n",
      " 8   RVOwner                  51047 non-null  object \n",
      " 9   Homeownership            51047 non-null  object \n",
      " 10  BuysViaMailOrder         51047 non-null  object \n",
      " 11  RespondsToMailOffers     51047 non-null  object \n",
      " 12  OptOutMailings           51047 non-null  object \n",
      " 13  NonUSTravel              51047 non-null  object \n",
      " 14  OwnsComputer             51047 non-null  object \n",
      " 15  HasCreditCard            51047 non-null  object \n",
      " 16  RetentionCalls           51047 non-null  int64  \n",
      " 17  NewCellphoneUser         51047 non-null  object \n",
      " 18  NotNewCellphoneUser      51047 non-null  object \n",
      " 19  OwnsMotorcycle           51047 non-null  object \n",
      " 20  HandsetPrice             51047 non-null  object \n",
      " 21  MadeCallToRetentionTeam  51047 non-null  object \n",
      " 22  CreditRating             51047 non-null  object \n",
      " 23  PrizmCode                51047 non-null  object \n",
      " 24  Occupation               51047 non-null  object \n",
      " 25  MaritalStatus            51047 non-null  object \n",
      "dtypes: float64(3), int64(1), object(22)\n",
      "memory usage: 10.1+ MB\n",
      "<class 'pandas.core.frame.DataFrame'>\n",
      "RangeIndex: 20000 entries, 0 to 19999\n",
      "Data columns (total 26 columns):\n",
      " #   Column                   Non-Null Count  Dtype  \n",
      "---  ------                   --------------  -----  \n",
      " 0   MonthlyMinutes           19940 non-null  float64\n",
      " 1   TotalRecurringCharge     19940 non-null  float64\n",
      " 2   ServiceArea              19996 non-null  object \n",
      " 3   CurrentEquipmentDays     20000 non-null  int64  \n",
      " 4   ChildrenInHH             20000 non-null  object \n",
      " 5   HandsetRefurbished       20000 non-null  object \n",
      " 6   HandsetWebCapable        20000 non-null  object \n",
      " 7   TruckOwner               20000 non-null  object \n",
      " 8   RVOwner                  20000 non-null  object \n",
      " 9   Homeownership            20000 non-null  object \n",
      " 10  BuysViaMailOrder         20000 non-null  object \n",
      " 11  RespondsToMailOffers     20000 non-null  object \n",
      " 12  OptOutMailings           20000 non-null  object \n",
      " 13  NonUSTravel              20000 non-null  object \n",
      " 14  OwnsComputer             20000 non-null  object \n",
      " 15  HasCreditCard            20000 non-null  object \n",
      " 16  RetentionCalls           20000 non-null  int64  \n",
      " 17  NewCellphoneUser         20000 non-null  object \n",
      " 18  NotNewCellphoneUser      20000 non-null  object \n",
      " 19  OwnsMotorcycle           20000 non-null  object \n",
      " 20  HandsetPrice             20000 non-null  object \n",
      " 21  MadeCallToRetentionTeam  20000 non-null  object \n",
      " 22  CreditRating             20000 non-null  object \n",
      " 23  PrizmCode                20000 non-null  object \n",
      " 24  Occupation               20000 non-null  object \n",
      " 25  MaritalStatus            20000 non-null  object \n",
      "dtypes: float64(2), int64(2), object(22)\n",
      "memory usage: 4.0+ MB\n"
     ]
    }
   ],
   "source": [
    "Y = train['Churn']\n",
    "train = train.drop(['Churn'], axis = 1)\n",
    "\n",
    "test = test.drop(['Churn'], axis = 1)\n",
    "\n",
    "train.info()\n",
    "test.info()"
   ]
  },
  {
   "cell_type": "code",
   "execution_count": 5,
   "metadata": {},
   "outputs": [
    {
     "name": "stdout",
     "output_type": "stream",
     "text": [
      "Any missing sample in training set: True\n",
      "Any missing sample in test set: True \n",
      "\n"
     ]
    }
   ],
   "source": [
    "print(\"Any missing sample in training set:\",train.isnull().values.any())\n",
    "print(\"Any missing sample in test set:\",test.isnull().values.any(), \"\\n\")"
   ]
  },
  {
   "cell_type": "code",
   "execution_count": 6,
   "metadata": {},
   "outputs": [],
   "source": [
    "train = train.replace(np.nan, 0)\n",
    "train.replace(np.nan, 0, inplace=True)\n",
    "\n",
    "test = train.replace(np.nan, 0)\n",
    "test.replace(np.nan, 0, inplace=True)"
   ]
  },
  {
   "cell_type": "code",
   "execution_count": 7,
   "metadata": {
    "pycharm": {
     "name": "#%%\n"
    }
   },
   "outputs": [],
   "source": [
    "from sklearn.preprocessing import LabelEncoder\n",
    "le = LabelEncoder()\n",
    "def FunLabelEncoder(df):\n",
    "    for c in df.columns:\n",
    "        if df.dtypes[c] == object:\n",
    "            le.fit(df[c].astype(str))\n",
    "            df[c] = le.transform(df[c].astype(str))\n",
    "    return df"
   ]
  },
  {
   "cell_type": "code",
   "execution_count": 8,
   "metadata": {
    "pycharm": {
     "name": "#%%\n"
    }
   },
   "outputs": [],
   "source": [
    "train = FunLabelEncoder(train)"
   ]
  },
  {
   "cell_type": "code",
   "execution_count": 9,
   "metadata": {
    "pycharm": {
     "name": "#%%\n"
    }
   },
   "outputs": [],
   "source": [
    "test = FunLabelEncoder(test)"
   ]
  },
  {
   "cell_type": "code",
   "execution_count": 10,
   "metadata": {},
   "outputs": [],
   "source": [
    "from sklearn.preprocessing import StandardScaler\n",
    "scaler = StandardScaler()\n",
    "train = scaler.fit_transform(train)\n",
    "test = scaler.fit_transform(test)"
   ]
  },
  {
   "cell_type": "code",
   "execution_count": 11,
   "metadata": {
    "pycharm": {
     "name": "#%%\n"
    }
   },
   "outputs": [],
   "source": [
    "from sklearn.model_selection import train_test_split\n",
    "X = train\n",
    "X_train, X_test, Y_train, Y_test = train_test_split(X, Y, test_size=0.3, random_state=9)"
   ]
  },
  {
   "cell_type": "code",
   "execution_count": 12,
   "metadata": {
    "pycharm": {
     "name": "#%%\n"
    }
   },
   "outputs": [],
   "source": [
    "X_train, X_test, Y_train, Y_test = train_test_split(X, Y, test_size=0.3, random_state=9)"
   ]
  },
  {
   "cell_type": "code",
   "execution_count": 13,
   "metadata": {
    "pycharm": {
     "name": "#%%\n"
    }
   },
   "outputs": [
    {
     "name": "stdout",
     "output_type": "stream",
     "text": [
      "X train shape:  (35732, 26)\n",
      "Y train shape:  (35732,)\n",
      "X test shape:  (15315, 26)\n",
      "Y test shape:  (15315,)\n",
      "Test shape:  (51047, 26)\n"
     ]
    }
   ],
   "source": [
    "print('X train shape: ', X_train.shape)\n",
    "print('Y train shape: ', Y_train.shape)\n",
    "print('X test shape: ', X_test.shape)\n",
    "print('Y test shape: ', Y_test.shape)\n",
    "print('Test shape: ', test.shape)"
   ]
  },
  {
   "cell_type": "code",
   "execution_count": 14,
   "metadata": {
    "pycharm": {
     "name": "#%%\n"
    }
   },
   "outputs": [],
   "source": [
    "from sklearn.ensemble import RandomForestClassifier\n",
    "\n",
    "# We define the model\n",
    "rfcla = RandomForestClassifier(n_estimators=100,random_state=9,n_jobs=-1)\n",
    "\n",
    "# We train model\n",
    "rfcla.fit(X_train, Y_train)\n",
    "\n",
    "# We predict target values\n",
    "Y_predict5 = rfcla.predict(X_test)"
   ]
  },
  {
   "cell_type": "code",
   "execution_count": 19,
   "metadata": {},
   "outputs": [],
   "source": [
    "from sklearn.ensemble import RandomForestClassifier\n",
    "\n",
    "# We define the model\n",
    "rfcla = RandomForestClassifier(n_estimators=100,random_state=9,n_jobs=-1)\n",
    "\n",
    "# We train model\n",
    "rfcla.fit(X_train, Y_train)\n",
    "\n",
    "# We predict target values\n",
    "Y_predict5 = rfcla.predict(X_test)"
   ]
  },
  {
   "cell_type": "code",
   "execution_count": 20,
   "metadata": {},
   "outputs": [
    {
     "name": "stdout",
     "output_type": "stream",
     "text": [
      "0.7106758080313418\n"
     ]
    }
   ],
   "source": [
    "score_rfcla = rfcla.score(X_test, Y_test)\n",
    "print(score_rfcla)"
   ]
  },
  {
   "cell_type": "code",
   "execution_count": null,
   "metadata": {},
   "outputs": [],
   "source": []
  }
 ],
 "metadata": {
  "kernelspec": {
   "display_name": "Python 3 (ipykernel)",
   "language": "python",
   "name": "python3"
  },
  "language_info": {
   "codemirror_mode": {
    "name": "ipython",
    "version": 3
   },
   "file_extension": ".py",
   "mimetype": "text/x-python",
   "name": "python",
   "nbconvert_exporter": "python",
   "pygments_lexer": "ipython3",
   "version": "3.10.5"
  }
 },
 "nbformat": 4,
 "nbformat_minor": 1
}
